{
 "cells": [
  {
   "cell_type": "code",
   "execution_count": 1,
   "metadata": {},
   "outputs": [],
   "source": [
    "import pyspark\n",
    "sc = pyspark.SparkContext('local[*]')"
   ]
  },
  {
   "cell_type": "code",
   "execution_count": 3,
   "metadata": {},
   "outputs": [
    {
     "data": {
      "text/plain": [
       "[('#', 1),\n",
       " ('Apache', 1),\n",
       " ('Spark', 14),\n",
       " ('', 73),\n",
       " ('is', 7),\n",
       " ('unified', 1),\n",
       " ('analytics', 1),\n",
       " ('engine', 2),\n",
       " ('It', 2),\n",
       " ('provides', 1)]"
      ]
     },
     "execution_count": 3,
     "metadata": {},
     "output_type": "execute_result"
    }
   ],
   "source": [
    "lines = sc.textFile(\"C://Users//nolfonzo//Spark//README.md\")\n",
    "words = lines.flatMap(lambda s: s.split(\" \"))\n",
    "word_tuples = words.map(lambda s: (s, 1))\n",
    "word_count = word_tuples.reduceByKey(lambda x, y: x + y)\n",
    "word_count.take(10)"
   ]
  },
  {
   "cell_type": "code",
   "execution_count": 10,
   "metadata": {},
   "outputs": [],
   "source": [
    "from pyspark.sql.functions import split, explode\n",
    "from pyspark.sql import SparkSession\n",
    "spark = SparkSession(sc)\n",
    "linesDF = spark.read.text(\"C://Users//nolfonzo//Spark//README.md\")"
   ]
  },
  {
   "cell_type": "code",
   "execution_count": 12,
   "metadata": {},
   "outputs": [
    {
     "name": "stdout",
     "output_type": "stream",
     "text": [
      "+--------------------+\n",
      "|               value|\n",
      "+--------------------+\n",
      "|      # Apache Spark|\n",
      "|                    |\n",
      "|Spark is a unifie...|\n",
      "|high-level APIs i...|\n",
      "|supports general ...|\n",
      "|rich set of highe...|\n",
      "|MLlib for machine...|\n",
      "|and Structured St...|\n",
      "|                    |\n",
      "|<https://spark.ap...|\n",
      "|                    |\n",
      "|[![GitHub Action ...|\n",
      "|[![Jenkins Build]...|\n",
      "|[![AppVeyor Build...|\n",
      "|[![PySpark Covera...|\n",
      "|                    |\n",
      "|                    |\n",
      "|## Online Documen...|\n",
      "|                    |\n",
      "|You can find the ...|\n",
      "+--------------------+\n",
      "only showing top 20 rows\n",
      "\n"
     ]
    }
   ],
   "source": [
    "linesDF.show()"
   ]
  },
  {
   "cell_type": "code",
   "execution_count": 13,
   "metadata": {},
   "outputs": [
    {
     "name": "stdout",
     "output_type": "stream",
     "text": [
      "+--------------------+\n",
      "|               words|\n",
      "+--------------------+\n",
      "|  [#, Apache, Spark]|\n",
      "|                  []|\n",
      "|[Spark, is, a, un...|\n",
      "|[high-level, APIs...|\n",
      "|[supports, genera...|\n",
      "|[rich, set, of, h...|\n",
      "|[MLlib, for, mach...|\n",
      "|[and, Structured,...|\n",
      "|                  []|\n",
      "|[<https://spark.a...|\n",
      "|                  []|\n",
      "|[[![GitHub, Actio...|\n",
      "|[[![Jenkins, Buil...|\n",
      "|[[![AppVeyor, Bui...|\n",
      "|[[![PySpark, Cove...|\n",
      "|                  []|\n",
      "|                  []|\n",
      "|[##, Online, Docu...|\n",
      "|                  []|\n",
      "|[You, can, find, ...|\n",
      "+--------------------+\n",
      "only showing top 20 rows\n",
      "\n",
      "+-----------+\n",
      "|       word|\n",
      "+-----------+\n",
      "|          #|\n",
      "|     Apache|\n",
      "|      Spark|\n",
      "|           |\n",
      "|      Spark|\n",
      "|         is|\n",
      "|          a|\n",
      "|    unified|\n",
      "|  analytics|\n",
      "|     engine|\n",
      "|        for|\n",
      "|large-scale|\n",
      "|       data|\n",
      "|processing.|\n",
      "|         It|\n",
      "|   provides|\n",
      "| high-level|\n",
      "|       APIs|\n",
      "|         in|\n",
      "|     Scala,|\n",
      "+-----------+\n",
      "only showing top 20 rows\n",
      "\n"
     ]
    }
   ],
   "source": [
    "wordListDf = linesDF.select(split(\"value\", \" \").alias(\"words\"))\n",
    "wordListDf.show()\n",
    "wordsDf = wordListDf.select(explode(\"words\").alias(\"word\"))\n",
    "wordsDf.show()"
   ]
  },
  {
   "cell_type": "code",
   "execution_count": 14,
   "metadata": {},
   "outputs": [
    {
     "name": "stdout",
     "output_type": "stream",
     "text": [
      "+---------------+-----+\n",
      "|           word|count|\n",
      "+---------------+-----+\n",
      "|     [![PySpark|    1|\n",
      "|         online|    1|\n",
      "|         graphs|    1|\n",
      "|     [\"Building|    1|\n",
      "|  documentation|    3|\n",
      "|       command,|    2|\n",
      "|    abbreviated|    1|\n",
      "|       overview|    1|\n",
      "|           rich|    1|\n",
      "|            set|    2|\n",
      "|    -DskipTests|    1|\n",
      "| 1,000,000,000:|    2|\n",
      "|           name|    1|\n",
      "|   [\"Specifying|    1|\n",
      "|         stream|    1|\n",
      "|           run:|    1|\n",
      "|            not|    1|\n",
      "|       programs|    2|\n",
      "|          tests|    2|\n",
      "|./dev/run-tests|    1|\n",
      "+---------------+-----+\n",
      "only showing top 20 rows\n",
      "\n"
     ]
    }
   ],
   "source": [
    "wordCountDf = wordsDf.groupBy(\"word\").count()\n",
    "wordCountDf.show()"
   ]
  },
  {
   "cell_type": "code",
   "execution_count": 25,
   "metadata": {},
   "outputs": [
    {
     "name": "stdout",
     "output_type": "stream",
     "text": [
      "+--------------------+-----+\n",
      "|                word|count|\n",
      "+--------------------+-----+\n",
      "|          [![PySpark|    1|\n",
      "|          [\"Building|    1|\n",
      "|                rich|    1|\n",
      "|        [\"Specifying|    1|\n",
      "|                will|    1|\n",
      "|                [run|    1|\n",
      "|      Alternatively,|    1|\n",
      "|               MLlib|    1|\n",
      "|                 can|    2|\n",
      "|                 for|    2|\n",
      "|                null|    0|\n",
      "|                  in|    1|\n",
      "|            building|    1|\n",
      "|             locally|    1|\n",
      "|         [![AppVeyor|    1|\n",
      "|<https://spark.ap...|    1|\n",
      "|                 You|    2|\n",
      "|                  To|    2|\n",
      "|          [![Jenkins|    1|\n",
      "|                More|    1|\n",
      "+--------------------+-----+\n",
      "only showing top 20 rows\n",
      "\n"
     ]
    }
   ],
   "source": [
    "spark.sql(\"drop table if exists word_counts\")\n",
    "spark.sql('CREATE TABLE word_counts (word STRING) USING csv OPTIONS(\"delimiter\"=\" \") LOCATION \"C://Users//nolfonzo//Spark//README.md\"')\n",
    "\n",
    "spark.sql(\"SELECT word, COUNT(word) AS count FROM word_counts GROUP BY word\").show()"
   ]
  },
  {
   "cell_type": "code",
   "execution_count": null,
   "metadata": {},
   "outputs": [],
   "source": []
  },
  {
   "cell_type": "code",
   "execution_count": null,
   "metadata": {},
   "outputs": [],
   "source": []
  },
  {
   "cell_type": "code",
   "execution_count": null,
   "metadata": {},
   "outputs": [],
   "source": []
  },
  {
   "cell_type": "code",
   "execution_count": null,
   "metadata": {},
   "outputs": [],
   "source": []
  },
  {
   "cell_type": "code",
   "execution_count": null,
   "metadata": {},
   "outputs": [],
   "source": []
  },
  {
   "cell_type": "code",
   "execution_count": null,
   "metadata": {},
   "outputs": [],
   "source": []
  },
  {
   "cell_type": "code",
   "execution_count": null,
   "metadata": {},
   "outputs": [],
   "source": []
  },
  {
   "cell_type": "code",
   "execution_count": null,
   "metadata": {},
   "outputs": [],
   "source": []
  },
  {
   "cell_type": "code",
   "execution_count": null,
   "metadata": {},
   "outputs": [],
   "source": []
  },
  {
   "cell_type": "code",
   "execution_count": null,
   "metadata": {},
   "outputs": [],
   "source": []
  },
  {
   "cell_type": "code",
   "execution_count": null,
   "metadata": {},
   "outputs": [],
   "source": []
  },
  {
   "cell_type": "code",
   "execution_count": null,
   "metadata": {},
   "outputs": [],
   "source": []
  },
  {
   "cell_type": "code",
   "execution_count": null,
   "metadata": {},
   "outputs": [],
   "source": []
  },
  {
   "cell_type": "code",
   "execution_count": null,
   "metadata": {},
   "outputs": [],
   "source": []
  },
  {
   "cell_type": "code",
   "execution_count": null,
   "metadata": {},
   "outputs": [],
   "source": []
  }
 ],
 "metadata": {
  "interpreter": {
   "hash": "42bd7e772f06a35056827be8e80a6eec0d7a0312cbaa23f37cb1640791bda56e"
  },
  "kernelspec": {
   "display_name": "Python 3.9.7 64-bit ('python3': conda)",
   "language": "python",
   "name": "python3"
  },
  "language_info": {
   "codemirror_mode": {
    "name": "ipython",
    "version": 3
   },
   "file_extension": ".py",
   "mimetype": "text/x-python",
   "name": "python",
   "nbconvert_exporter": "python",
   "pygments_lexer": "ipython3",
   "version": "3.9.7"
  },
  "orig_nbformat": 4
 },
 "nbformat": 4,
 "nbformat_minor": 2
}
