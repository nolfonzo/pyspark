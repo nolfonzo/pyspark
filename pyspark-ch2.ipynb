{
 "cells": [
  {
   "cell_type": "markdown",
   "metadata": {},
   "source": [
    "**Install MySQL on WSL**\\\n",
    "1. sudo apt install mysql-server\n",
    "2. sudo mysql_secure_installation\n",
    "3. sudo service mysql start\n",
    "\n",
    "4. conda install pymysql\n",
    "\n",
    "5. mysql -h 127.0.0.1:3306 -u root -p authors"
   ]
  },
  {
   "cell_type": "code",
   "execution_count": 2,
   "metadata": {},
   "outputs": [
    {
     "data": {
      "text/plain": [
       "0"
      ]
     },
     "execution_count": 2,
     "metadata": {},
     "output_type": "execute_result"
    }
   ],
   "source": [
    "import pymysql\n",
    "conn = pymysql.connect(user=\"root\",password=\"g0nz07\")\n",
    "mycursor=conn.cursor()\n",
    "mycursor.execute(\"drop database if exists pysparkdb\")\n",
    "mycursor.execute(\"create database pysparkdb\")\n",
    "\n",
    "mycursor.execute(\"use pysparkdb\")\n",
    "mycursor.execute(\"drop table if exists authors\")"
   ]
  },
  {
   "cell_type": "code",
   "execution_count": 3,
   "metadata": {},
   "outputs": [
    {
     "data": {
      "text/plain": [
       "0"
      ]
     },
     "execution_count": 3,
     "metadata": {},
     "output_type": "execute_result"
    }
   ],
   "source": [
    "mycursor.execute(\"CREATE TABLE IF NOT EXISTS authors ( \\\n",
    "    uid INT AUTO_INCREMENT PRIMARY KEY, \\\n",
    "    last_name VARCHAR(255), \\\n",
    "    first_name VARCHAR(255), \\\n",
    "    birth_month VARCHAR(255))\")"
   ]
  },
  {
   "cell_type": "code",
   "execution_count": 4,
   "metadata": {},
   "outputs": [
    {
     "data": {
      "text/plain": [
       "15"
      ]
     },
     "execution_count": 4,
     "metadata": {},
     "output_type": "execute_result"
    }
   ],
   "source": [
    "mycursor.execute(\"INSERT INTO authors (last_name, first_name, birth_month) \\\n",
    "VALUES \\\n",
    "  ('Asimov', 'Issac', 'January'), \\\n",
    "  ('Brown', 'Dan', 'June'), \\\n",
    "  ('Baldacci', 'David', 'August'), \\\n",
    "  ('Burroughs', 'Edgar Rice', 'September'), \\\n",
    "  ('Clarke', 'Arthur C.', 'December'), \\\n",
    "  ('Cook', 'Robin', 'May'), \\\n",
    "  ('Dickens', 'Charles', 'February'), \\\n",
    "  ('Forster', 'E.M.', 'January'), \\\n",
    "  ('Lahiri', 'Jhumpa', 'July'), \\\n",
    "  ('Rand', 'Ayn', 'February'), \\\n",
    "  ('Salinger', 'J.D.', 'January'), \\\n",
    "  ('Seuss', 'Dr.', 'March'), \\\n",
    "  ('Stoker', 'Bram', 'November'), \\\n",
    "  ('Wilde', 'Oscar', 'October'), \\\n",
    "  ('Wordsworth', 'William', 'April');\")"
   ]
  },
  {
   "cell_type": "code",
   "execution_count": 5,
   "metadata": {},
   "outputs": [
    {
     "data": {
      "text/plain": [
       "15"
      ]
     },
     "execution_count": 5,
     "metadata": {},
     "output_type": "execute_result"
    }
   ],
   "source": [
    "mycursor.execute(\"select * from pysparkdb.authors;\")"
   ]
  },
  {
   "cell_type": "code",
   "execution_count": 6,
   "metadata": {},
   "outputs": [],
   "source": [
    "conn.commit()"
   ]
  },
  {
   "cell_type": "code",
   "execution_count": 7,
   "metadata": {},
   "outputs": [
    {
     "name": "stdout",
     "output_type": "stream",
     "text": [
      "(1, 'Asimov', 'Issac', 'January')\n",
      "(2, 'Brown', 'Dan', 'June')\n",
      "(3, 'Baldacci', 'David', 'August')\n",
      "(4, 'Burroughs', 'Edgar Rice', 'September')\n",
      "(5, 'Clarke', 'Arthur C.', 'December')\n",
      "(6, 'Cook', 'Robin', 'May')\n",
      "(7, 'Dickens', 'Charles', 'February')\n",
      "(8, 'Forster', 'E.M.', 'January')\n",
      "(9, 'Lahiri', 'Jhumpa', 'July')\n",
      "(10, 'Rand', 'Ayn', 'February')\n",
      "(11, 'Salinger', 'J.D.', 'January')\n",
      "(12, 'Seuss', 'Dr.', 'March')\n",
      "(13, 'Stoker', 'Bram', 'November')\n",
      "(14, 'Wilde', 'Oscar', 'October')\n",
      "(15, 'Wordsworth', 'William', 'April')\n"
     ]
    }
   ],
   "source": [
    "for row in mycursor: print(row)"
   ]
  }
 ],
 "metadata": {
  "interpreter": {
   "hash": "2678a815613a486355418d7a646a043051186984e97816ceb1e10bd784649dbc"
  },
  "kernelspec": {
   "display_name": "Python 3.9.5",
   "language": "python",
   "name": "python3"
  },
  "language_info": {
   "codemirror_mode": {
    "name": "ipython",
    "version": 3
   },
   "file_extension": ".py",
   "mimetype": "text/x-python",
   "name": "python",
   "nbconvert_exporter": "python",
   "pygments_lexer": "ipython3",
   "version": "3.9.5"
  },
  "orig_nbformat": 4
 },
 "nbformat": 4,
 "nbformat_minor": 2
}
