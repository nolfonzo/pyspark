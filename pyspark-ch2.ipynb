{
 "cells": [
  {
   "cell_type": "code",
   "execution_count": 3,
   "metadata": {},
   "outputs": [
    {
     "data": {
      "text/plain": [
       "0"
      ]
     },
     "execution_count": 3,
     "metadata": {},
     "output_type": "execute_result"
    }
   ],
   "source": [
    "import pymysql\n",
    "conn = pymysql.connect(user=\"root\",password=\"g0nz07\")\n",
    "mycursor=conn.cursor()\n",
    "mycursor.execute(\"drop database if exists pysparkdb\")\n",
    "mycursor.execute(\"create database pysparkdb\")\n",
    "\n",
    "mycursor.execute(\"use pysparkdb\")\n",
    "mycursor.execute(\"drop table if exists authors\")"
   ]
  },
  {
   "cell_type": "code",
   "execution_count": 4,
   "metadata": {},
   "outputs": [
    {
     "data": {
      "text/plain": [
       "0"
      ]
     },
     "execution_count": 4,
     "metadata": {},
     "output_type": "execute_result"
    }
   ],
   "source": [
    "mycursor.execute(\"CREATE TABLE IF NOT EXISTS authors ( \\\n",
    "    uid INT AUTO_INCREMENT PRIMARY KEY, \\\n",
    "    last_name VARCHAR(255), \\\n",
    "    first_name VARCHAR(255), \\\n",
    "    birth_month VARCHAR(255))\")"
   ]
  },
  {
   "cell_type": "code",
   "execution_count": 5,
   "metadata": {},
   "outputs": [
    {
     "data": {
      "text/plain": [
       "15"
      ]
     },
     "execution_count": 5,
     "metadata": {},
     "output_type": "execute_result"
    }
   ],
   "source": [
    "mycursor.execute(\"INSERT INTO authors (last_name, first_name, birth_month) \\\n",
    "VALUES \\\n",
    "  ('Asimov', 'Issac', 'January'), \\\n",
    "  ('Brown', 'Dan', 'June'), \\\n",
    "  ('Baldacci', 'David', 'August'), \\\n",
    "  ('Burroughs', 'Edgar Rice', 'September'), \\\n",
    "  ('Clarke', 'Arthur C.', 'December'), \\\n",
    "  ('Cook', 'Robin', 'May'), \\\n",
    "  ('Dickens', 'Charles', 'February'), \\\n",
    "  ('Forster', 'E.M.', 'January'), \\\n",
    "  ('Lahiri', 'Jhumpa', 'July'), \\\n",
    "  ('Rand', 'Ayn', 'February'), \\\n",
    "  ('Salinger', 'J.D.', 'January'), \\\n",
    "  ('Seuss', 'Dr.', 'March'), \\\n",
    "  ('Stoker', 'Bram', 'November'), \\\n",
    "  ('Wilde', 'Oscar', 'October'), \\\n",
    "  ('Wordsworth', 'William', 'April');\")"
   ]
  },
  {
   "cell_type": "code",
   "execution_count": 6,
   "metadata": {},
   "outputs": [
    {
     "data": {
      "text/plain": [
       "15"
      ]
     },
     "execution_count": 6,
     "metadata": {},
     "output_type": "execute_result"
    }
   ],
   "source": [
    "mycursor.execute(\"select * from pysparkdb.authors;\")"
   ]
  },
  {
   "cell_type": "code",
   "execution_count": 7,
   "metadata": {},
   "outputs": [],
   "source": [
    "conn.commit()"
   ]
  },
  {
   "cell_type": "code",
   "execution_count": 8,
   "metadata": {},
   "outputs": [
    {
     "name": "stdout",
     "output_type": "stream",
     "text": [
      "(1, 'Asimov', 'Issac', 'January')\n",
      "(2, 'Brown', 'Dan', 'June')\n",
      "(3, 'Baldacci', 'David', 'August')\n",
      "(4, 'Burroughs', 'Edgar Rice', 'September')\n",
      "(5, 'Clarke', 'Arthur C.', 'December')\n",
      "(6, 'Cook', 'Robin', 'May')\n",
      "(7, 'Dickens', 'Charles', 'February')\n",
      "(8, 'Forster', 'E.M.', 'January')\n",
      "(9, 'Lahiri', 'Jhumpa', 'July')\n",
      "(10, 'Rand', 'Ayn', 'February')\n",
      "(11, 'Salinger', 'J.D.', 'January')\n",
      "(12, 'Seuss', 'Dr.', 'March')\n",
      "(13, 'Stoker', 'Bram', 'November')\n",
      "(14, 'Wilde', 'Oscar', 'October')\n",
      "(15, 'Wordsworth', 'William', 'April')\n"
     ]
    }
   ],
   "source": [
    "for row in mycursor: print(row)"
   ]
  },
  {
   "cell_type": "markdown",
   "metadata": {},
   "source": [
    "* **In Windows: Copy mariadb jar into $SPARK_HOME/jars/**\n",
    "* **In Remote-WSL, change ~/.vscode-server**\n",
    "  1. PATH=/home/nolfonzo/miniconda3/bin:$PATH                                                                                     2 export SPARK_HOME=\"/home/nolfonzo/spark-3.2.1-bin-hadoop3.2\"\n",
    "  3. export PATH=\"$SPARK_HOME/bin:$SPARK_HOME/sbin:$PATH\"\n",
    "  4. export JAVA_HOME=\"/usr/lib/jvm/java-11-openjdk-amd64\"\n",
    "  5. echo \"**** PATH: \" $PATH\n",
    "  6. echo \"**** SPARK_HOME: \" $SPARK_HOME\n",
    "  7. echo \"**** JAVA_HOME: \" $JAVA_HOME\n",
    "~                                          "
   ]
  },
  {
   "cell_type": "code",
   "execution_count": 1,
   "metadata": {},
   "outputs": [
    {
     "name": "stderr",
     "output_type": "stream",
     "text": [
      "22/05/19 14:58:42 WARN Utils: Your hostname, CarlPC resolves to a loopback address: 127.0.1.1; using 172.25.228.240 instead (on interface eth0)\n",
      "22/05/19 14:58:42 WARN Utils: Set SPARK_LOCAL_IP if you need to bind to another address\n",
      "WARNING: An illegal reflective access operation has occurred\n",
      "WARNING: Illegal reflective access by org.apache.spark.unsafe.Platform (file:/home/nolfonzo/spark-3.2.1-bin-hadoop3.2/jars/spark-unsafe_2.12-3.2.1.jar) to constructor java.nio.DirectByteBuffer(long,int)\n",
      "WARNING: Please consider reporting this to the maintainers of org.apache.spark.unsafe.Platform\n",
      "WARNING: Use --illegal-access=warn to enable warnings of further illegal reflective access operations\n",
      "WARNING: All illegal access operations will be denied in a future release\n",
      "Using Spark's default log4j profile: org/apache/spark/log4j-defaults.properties\n",
      "Setting default log level to \"WARN\".\n",
      "To adjust logging level use sc.setLogLevel(newLevel). For SparkR, use setLogLevel(newLevel).\n",
      "22/05/19 14:58:43 WARN NativeCodeLoader: Unable to load native-hadoop library for your platform... using builtin-java classes where applicable\n"
     ]
    },
    {
     "name": "stdout",
     "output_type": "stream",
     "text": [
      "+---+----------+----------+-----------+\n",
      "|uid| last_name|first_name|birth_month|\n",
      "+---+----------+----------+-----------+\n",
      "|  1|    Asimov|     Issac|    January|\n",
      "|  2|     Brown|       Dan|       June|\n",
      "|  3|  Baldacci|     David|     August|\n",
      "|  4| Burroughs|Edgar Rice|  September|\n",
      "|  5|    Clarke| Arthur C.|   December|\n",
      "|  6|      Cook|     Robin|        May|\n",
      "|  7|   Dickens|   Charles|   February|\n",
      "|  8|   Forster|      E.M.|    January|\n",
      "|  9|    Lahiri|    Jhumpa|       July|\n",
      "| 10|      Rand|       Ayn|   February|\n",
      "| 11|  Salinger|      J.D.|    January|\n",
      "| 12|     Seuss|       Dr.|      March|\n",
      "| 13|    Stoker|      Bram|   November|\n",
      "| 14|     Wilde|     Oscar|    October|\n",
      "| 15|Wordsworth|   William|      April|\n",
      "+---+----------+----------+-----------+\n",
      "\n"
     ]
    },
    {
     "name": "stderr",
     "output_type": "stream",
     "text": [
      "                                                                                \r"
     ]
    }
   ],
   "source": [
    "import pyspark\n",
    "sc = pyspark.SparkContext.getOrCreate()\n",
    "from pyspark.sql import SparkSession\n",
    "spark = SparkSession(sc)\n",
    "dataframe_mysql = spark.read.format(\"jdbc\").options(\n",
    "    url=\"jdbc:mysql://127.0.0.1/pysparkdb\",\n",
    "    driver = \"org.mariadb.jdbc.Driver\",\n",
    "    dbtable = \"authors\",\n",
    "    user=\"root\",\n",
    "    password=\"g0nz07\").load()\n",
    "dataframe_mysql.show()"
   ]
  },
  {
   "cell_type": "code",
   "execution_count": 3,
   "metadata": {},
   "outputs": [
    {
     "name": "stdout",
     "output_type": "stream",
     "text": [
      "+-----------------------------------------------+\n",
      "|# Essential PySpark for Scalable Data Analytics|\n",
      "+-----------------------------------------------+\n",
      "|                           <a href=\"https://...|\n",
      "|                           This is the code ...|\n",
      "|                           **A beginner's gu...|\n",
      "|                           ## What is this b...|\n",
      "|                           Apache Spark is a...|\n",
      "|                           This book covers ...|\n",
      "|                           Understand the ro...|\n",
      "|                           Gain an appreciat...|\n",
      "|                           Scale out your da...|\n",
      "|                           Build data pipeli...|\n",
      "|                           Leverage the clou...|\n",
      "|                           Explore the appli...|\n",
      "|                           Integrate your cl...|\n",
      "|                           If you feel this ...|\n",
      "|                           <a href=\"https://...|\n",
      "|                           alt=\"https://www....|\n",
      "|                           ## Instructions a...|\n",
      "|                           All of the code i...|\n",
      "|                           The code will loo...|\n",
      "|                                            ```|\n",
      "+-----------------------------------------------+\n",
      "only showing top 20 rows\n",
      "\n"
     ]
    }
   ],
   "source": [
    "retail_df = (spark\n",
    "    .read\n",
    "    .format(\"csv\")\n",
    "    .option(\"inferSchema\", \"true\")\n",
    "    .option(\"header\",\"true\")\n",
    "    .load(\"/home/nolfonzo/src/Essential-PySpark-for-Scalable-Data-Analytics/README.md\")\n",
    "    )\n",
    "retail_df.show()"
   ]
  },
  {
   "cell_type": "code",
   "execution_count": 5,
   "metadata": {},
   "outputs": [
    {
     "name": "stdout",
     "output_type": "stream",
     "text": [
      "root\n",
      " |-- image: struct (nullable = true)\n",
      " |    |-- origin: string (nullable = true)\n",
      " |    |-- height: integer (nullable = true)\n",
      " |    |-- width: integer (nullable = true)\n",
      " |    |-- nChannels: integer (nullable = true)\n",
      " |    |-- mode: integer (nullable = true)\n",
      " |    |-- data: binary (nullable = true)\n",
      "\n"
     ]
    },
    {
     "name": "stderr",
     "output_type": "stream",
     "text": [
      "                                                                                \r"
     ]
    }
   ],
   "source": [
    "raw_df = spark.read.format(\"image\").load(\"/home/nolfonzo/src/Essential-PySpark-for-Scalable-Data-Analytics/data/images\")\n",
    "raw_df.printSchema()\n",
    "image_df = raw_df.select(\"image.origin\", \"image.height\", \"image.width\", \"image.nChannels\", \"image.mode\", \"image.data\")\n",
    "image_df.write.option(\"header\", \"true\").mode(\"overwrite\").csv(\"/home/nolfonzo/src/pyspark/images.csv\")"
   ]
  },
  {
   "cell_type": "code",
   "execution_count": 6,
   "metadata": {},
   "outputs": [],
   "source": [
    "raw_df = spark.read.format(\"image\").load(\"images\")"
   ]
  },
  {
   "cell_type": "code",
   "execution_count": null,
   "metadata": {},
   "outputs": [],
   "source": [
    "conn.commit()"
   ]
  },
  {
   "cell_type": "code",
   "execution_count": 9,
   "metadata": {},
   "outputs": [],
   "source": [
    "import pyspark\n",
    "sc = pyspark.SparkContext.getOrCreate()\n",
    "from pyspark.sql import SparkSession\n",
    "spark = SparkSession(sc)"
   ]
  }
 ],
 "metadata": {
  "interpreter": {
   "hash": "2678a815613a486355418d7a646a043051186984e97816ceb1e10bd784649dbc"
  },
  "kernelspec": {
   "display_name": "Python 3.9.5",
   "language": "python",
   "name": "python3"
  },
  "language_info": {
   "codemirror_mode": {
    "name": "ipython",
    "version": 3
   },
   "file_extension": ".py",
   "mimetype": "text/x-python",
   "name": "python",
   "nbconvert_exporter": "python",
   "pygments_lexer": "ipython3",
   "version": "3.9.5"
  },
  "orig_nbformat": 4
 },
 "nbformat": 4,
 "nbformat_minor": 2
}
